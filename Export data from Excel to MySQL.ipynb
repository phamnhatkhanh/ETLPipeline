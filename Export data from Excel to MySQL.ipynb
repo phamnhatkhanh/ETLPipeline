{
 "cells": [
  {
   "cell_type": "code",
   "execution_count": 2,
   "id": "through-switzerland",
   "metadata": {},
   "outputs": [
    {
     "name": "stdout",
     "output_type": "stream",
     "text": [
      "Requirement already satisfied: pandas in /Library/Frameworks/Python.framework/Versions/3.9/lib/python3.9/site-packages (2.0.0)\n",
      "Requirement already satisfied: python-dateutil>=2.8.2 in /Users/khanhpn/Library/Python/3.9/lib/python/site-packages (from pandas) (2.8.2)\n",
      "Requirement already satisfied: pytz>=2020.1 in /Library/Frameworks/Python.framework/Versions/3.9/lib/python3.9/site-packages (from pandas) (2023.3)\n",
      "Requirement already satisfied: tzdata>=2022.1 in /Library/Frameworks/Python.framework/Versions/3.9/lib/python3.9/site-packages (from pandas) (2023.3)\n",
      "Requirement already satisfied: numpy>=1.20.3 in /Library/Frameworks/Python.framework/Versions/3.9/lib/python3.9/site-packages (from pandas) (1.24.2)\n",
      "Requirement already satisfied: six>=1.5 in /Library/Frameworks/Python.framework/Versions/3.9/lib/python3.9/site-packages (from python-dateutil>=2.8.2->pandas) (1.16.0)\n",
      "Requirement already satisfied: mysql-connector in /Library/Frameworks/Python.framework/Versions/3.9/lib/python3.9/site-packages (2.2.9)\n",
      "Requirement already satisfied: PyMySQL in /Library/Frameworks/Python.framework/Versions/3.9/lib/python3.9/site-packages (1.0.3)\n",
      "Requirement already satisfied: pyodbc in /Library/Frameworks/Python.framework/Versions/3.9/lib/python3.9/site-packages (4.0.39)\n",
      "Requirement already satisfied: openpyxl in /Library/Frameworks/Python.framework/Versions/3.9/lib/python3.9/site-packages (3.1.2)\n",
      "Requirement already satisfied: et-xmlfile in /Library/Frameworks/Python.framework/Versions/3.9/lib/python3.9/site-packages (from openpyxl) (1.1.0)\n"
     ]
    }
   ],
   "source": [
    "!pip install pandas\n",
    "!pip3 install mysql-connector\n",
    "!pip install PyMySQL\n",
    "\n",
    "!pip install --no-binary :all: pyodbc\n",
    "\n",
    "!pip install openpyxl --upgrade"
   ]
  },
  {
   "cell_type": "code",
   "execution_count": 5,
   "id": "44d42d5a",
   "metadata": {},
   "outputs": [],
   "source": [
    "from pymysql import connect\n",
    "from sqlalchemy import create_engine\n",
    "import pyodbc\n",
    "import os\n",
    "import pandas as pd\n",
    "import mysql.connector as connection"
   ]
  },
  {
   "cell_type": "code",
   "execution_count": 6,
   "id": "flexible-effectiveness",
   "metadata": {},
   "outputs": [
    {
     "name": "stderr",
     "output_type": "stream",
     "text": [
      "/var/folders/1m/ntwkjd1n6f72t9x9fhxn5bt80000gn/T/ipykernel_5274/1167408158.py:4: UserWarning: pandas only supports SQLAlchemy connectable (engine/connection) or database string URI or sqlite3 DBAPI2 connection. Other DBAPI2 objects are not tested. Please consider using SQLAlchemy.\n",
      "  df = pd.read_sql(sql, db)\n"
     ]
    },
    {
     "data": {
      "text/html": [
       "<div>\n",
       "<style scoped>\n",
       "    .dataframe tbody tr th:only-of-type {\n",
       "        vertical-align: middle;\n",
       "    }\n",
       "\n",
       "    .dataframe tbody tr th {\n",
       "        vertical-align: top;\n",
       "    }\n",
       "\n",
       "    .dataframe thead th {\n",
       "        text-align: right;\n",
       "    }\n",
       "</style>\n",
       "<table border=\"1\" class=\"dataframe\">\n",
       "  <thead>\n",
       "    <tr style=\"text-align: right;\">\n",
       "      <th></th>\n",
       "      <th>id</th>\n",
       "      <th>email</th>\n",
       "      <th>name</th>\n",
       "      <th>username</th>\n",
       "    </tr>\n",
       "  </thead>\n",
       "  <tbody>\n",
       "    <tr>\n",
       "      <th>0</th>\n",
       "      <td>4</td>\n",
       "      <td>arjungautam@gmail.com</td>\n",
       "      <td>ArjunCodes</td>\n",
       "      <td>arjun</td>\n",
       "    </tr>\n",
       "    <tr>\n",
       "      <th>1</th>\n",
       "      <td>5</td>\n",
       "      <td>hirotama@gmail.com</td>\n",
       "      <td>katakunhi</td>\n",
       "      <td>hirotama</td>\n",
       "    </tr>\n",
       "    <tr>\n",
       "      <th>2</th>\n",
       "      <td>6</td>\n",
       "      <td>arjungautam@gmail.com</td>\n",
       "      <td>khanhpn</td>\n",
       "      <td>khanhpn</td>\n",
       "    </tr>\n",
       "    <tr>\n",
       "      <th>3</th>\n",
       "      <td>7</td>\n",
       "      <td>arjungautam@gmail.com</td>\n",
       "      <td>molly</td>\n",
       "      <td>molly</td>\n",
       "    </tr>\n",
       "    <tr>\n",
       "      <th>4</th>\n",
       "      <td>8</td>\n",
       "      <td>arjungautam@gmail.com</td>\n",
       "      <td>rosa</td>\n",
       "      <td>rosa</td>\n",
       "    </tr>\n",
       "  </tbody>\n",
       "</table>\n",
       "</div>"
      ],
      "text/plain": [
       "   id                  email        name  username\n",
       "0   4  arjungautam@gmail.com  ArjunCodes     arjun\n",
       "1   5     hirotama@gmail.com   katakunhi  hirotama\n",
       "2   6  arjungautam@gmail.com     khanhpn   khanhpn\n",
       "3   7  arjungautam@gmail.com       molly     molly\n",
       "4   8  arjungautam@gmail.com        rosa      rosa"
      ]
     },
     "execution_count": 6,
     "metadata": {},
     "output_type": "execute_result"
    }
   ],
   "source": [
    "# Test connect Notebook with Database\n",
    "sql = \"SELECT * FROM fullstack.user;\"\n",
    "db = connection.connect(host=\"localhost\", database=\"fullstack\", user=\"root\", password=\"\", use_pure=True)\n",
    "df = pd.read_sql(sql, db)\n",
    "df.head()"
   ]
  },
  {
   "cell_type": "code",
   "execution_count": 7,
   "id": "af18b6a6",
   "metadata": {},
   "outputs": [],
   "source": [
    "HOSTNAME = 'localhost'\n",
    "PORT = 3306\n",
    "DBNAME = 'fullstack'\n",
    "USERNAME = 'root'\n",
    "PASSWORD = ''\n",
    "\n",
    "#load data to postgres\n",
    "def load(df, tbl):\n",
    "  try:\n",
    "    rows_imported = 0\n",
    "    engine = create_engine(f\"mysql+pymysql://{USERNAME}:{PASSWORD}@{HOSTNAME}:{PORT}/{DBNAME}\")\n",
    "    print(f'importing rows {rows_imported} to {rows_imported + len(df)}... ')\n",
    "    # save df to mysql\n",
    "    df.to_sql(f\"stg_{tbl}\", engine, if_exists='replace', index=False)\n",
    "    rows_imported += len(df)\n",
    "    # add elapsed time to final print out\n",
    "    print(\"Data imported successful\")  \n",
    "  except Exception as e:\n",
    "    print(\"Data load error: \" + str(e))"
   ]
  },
  {
   "cell_type": "code",
   "execution_count": 8,
   "id": "b75b4dc3",
   "metadata": {},
   "outputs": [],
   "source": [
    "dir = r'/Users/khanhpn/Desktop/pythondataanalysis/ETLPipeline/data'\n",
    "\n",
    "\n",
    "def extract():\n",
    "  try:\n",
    "    # starting directory\n",
    "    directory = dir\n",
    "    # iterate over files in the directory\n",
    "    for filename in os.listdir(directory):\n",
    "        #get filename without ext\n",
    "        file_wo_ext = os.path.splitext(filename)[0]\n",
    "        # only process excel files\n",
    "        if filename.endswith(\".xlsx\"):\n",
    "            f = os.path.join(directory, filename)\n",
    "            # checking if it is a file\n",
    "            if os.path.isfile(f):\n",
    "                df = pd.read_excel(f)\n",
    "                # call to load\n",
    "                load(df, file_wo_ext)\n",
    "  except Exception as e:\n",
    "    print(\"Data extract error: \" + str(e))\n",
    "\n"
   ]
  },
  {
   "cell_type": "code",
   "execution_count": 9,
   "id": "0b100351",
   "metadata": {},
   "outputs": [
    {
     "name": "stdout",
     "output_type": "stream",
     "text": [
      "importing rows 0 to 16... \n",
      "Data imported successful\n",
      "importing rows 0 to 35... \n",
      "Data imported successful\n"
     ]
    }
   ],
   "source": [
    "try:\n",
    "  #call extract function\n",
    "  df = extract()\n",
    "except Exception as e:\n",
    "  print(\"Error while extracting data: \" + str(e))\n"
   ]
  }
 ],
 "metadata": {
  "kernelspec": {
   "display_name": "Python 3",
   "language": "python",
   "name": "python3"
  },
  "language_info": {
   "codemirror_mode": {
    "name": "ipython",
    "version": 3
   },
   "file_extension": ".py",
   "mimetype": "text/x-python",
   "name": "python",
   "nbconvert_exporter": "python",
   "pygments_lexer": "ipython3",
   "version": "3.9.8"
  }
 },
 "nbformat": 4,
 "nbformat_minor": 5
}
